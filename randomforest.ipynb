{
  "nbformat": 4,
  "nbformat_minor": 0,
  "metadata": {
    "colab": {
      "name": "randomforest.ipynb",
      "provenance": []
    },
    "kernelspec": {
      "name": "python3",
      "display_name": "Python 3"
    },
    "language_info": {
      "name": "python"
    }
  },
  "cells": [
    {
      "cell_type": "markdown",
      "source": [
        "-Import all necessary libraries and data"
      ],
      "metadata": {
        "id": "l0vHv9NKRrD4"
      }
    },
    {
      "cell_type": "code",
      "execution_count": 6,
      "metadata": {
        "id": "1Yk299CWv9fN"
      },
      "outputs": [],
      "source": [
        "import pandas as pd\n",
        "import numpy as np\n",
        "from sklearn.metrics import mean_squared_log_error\n",
        "from sklearn.ensemble import RandomForestRegressor\n",
        "from sklearn.model_selection import train_test_split, GridSearchCV"
      ]
    },
    {
      "cell_type": "code",
      "source": [
        "data = pd.read_csv('/content/LargeOrderLevelDataV2.csv')"
      ],
      "metadata": {
        "id": "z-fId72FInl-"
      },
      "execution_count": 7,
      "outputs": []
    },
    {
      "cell_type": "markdown",
      "source": [
        "-Reformat all date/time features to exclude the date and track time as seconds past midnight rather than HH:MM:SS"
      ],
      "metadata": {
        "id": "6oButzd9R7l0"
      }
    },
    {
      "cell_type": "code",
      "source": [
        "fix_dates = ['business_timestamp_order_taken', 'order_completed_timestamp', 'plan_ahead_requested_timestamp']\n",
        "            \n",
        "for x in fix_dates:\n",
        "  st_times = []\n",
        "  fl_times = []\n",
        "  if x in data:\n",
        "    for t in data[x]:\n",
        "      if type(t) != str:\n",
        "        t = \"0.0\"\n",
        "        st_times.append(t)\n",
        "        fl_times.append(t)\n",
        "        continue\n",
        "      st_times.append(t)\n",
        "      nt = t[11: 19]\n",
        "      nt = nt.replace(\":\", \"\")\n",
        "      hr_s = nt[0: 2]\n",
        "      min_s = nt[2: 4]\n",
        "      sec = nt[4:]\n",
        "      ts = float(hr_s) * 3600 + float(min_s) * 60 + float(sec)\n",
        "      fl_times.append(str(ts))\n",
        "\n",
        "    for k in range(len(st_times)):\n",
        "      data[x] = data[x].replace([st_times[k]], float(fl_times[k]))"
      ],
      "metadata": {
        "id": "Qc5vbhvomLS5"
      },
      "execution_count": 8,
      "outputs": []
    },
    {
      "cell_type": "markdown",
      "source": [
        "-Data cleaning: \n",
        "-convert features tracked in minutes to be tracked in seconds instead\n",
        "-use numbers to represent labels for discrete features\n"
      ],
      "metadata": {
        "id": "qkASzatBTj3p"
      }
    },
    {
      "cell_type": "code",
      "source": [
        "fix = []\n",
        "fix_mins = ['make_time', 'bake_time', 'rack_time', 'otd_time']\n",
        "\n",
        "del data['store_order_number']\n",
        "del data['make_time_v2']\n",
        "\n",
        "data = data[data['make_time'].notna()]\n",
        "\n",
        "for x in data:\n",
        "  af = bool(True)\n",
        "  for y in data[x]:\n",
        "    if af == bool(False):\n",
        "      break\n",
        "    if type(y) != float:\n",
        "      af = bool(False)\n",
        "      fix.append(x)    \n",
        "\n",
        "for a in fix:\n",
        "  options = {}\n",
        "  n = 0\n",
        "  for x in data[a]:\n",
        "    if not x in options.values():\n",
        "      options[n] = x\n",
        "      n += 1\n",
        "  if len(options) == 1:\n",
        "    del data[a]\n",
        "\n",
        "  for i in range(len(options)):\n",
        "    data[a] = data[a].replace([options[i]], float(i))\n",
        "\n",
        "data = data.fillna(0.0)\n",
        "\n",
        "for c in fix_mins:\n",
        "  data[c] = data[c].apply(lambda x: x*60)\n",
        "\n",
        "ctime = data['make_time']\n",
        "del data['make_time']"
      ],
      "metadata": {
        "id": "M_dI0S-JjckE",
        "colab": {
          "base_uri": "https://localhost:8080/"
        },
        "outputId": "93c63d0d-bfb1-4794-9d48-c030aa8ec36a"
      },
      "execution_count": 9,
      "outputs": []
    },
    {
      "cell_type": "markdown",
      "source": [
        "-Train a random forest model on the data using hyperparameters found from grid search with 5-fold cross validation and check its accuracy. \n",
        "\n",
        "-Hyperparameters are currently hardcoded from a past grid search since grid search takes so long"
      ],
      "metadata": {
        "id": "qYX2q_uoUxjH"
      }
    },
    {
      "cell_type": "code",
      "source": [
        "train_data, test_data, train_time, test_time = train_test_split(data, ctime, test_size = 0.1, )\n",
        "model = RandomForestRegressor(criterion = 'squared_error', max_depth = 8, min_samples_leaf = 5, n_estimators = 140)\n",
        "model.fit(train_data, train_time)\n",
        "\n",
        "guesses = model.predict(test_data)\n",
        "if test_time.size == guesses.size:\n",
        "  total_err = 0.0\n",
        "  i = 0\n",
        "  for x in test_time:\n",
        "    total_err += abs(x - guesses[i])\n",
        "    i += 1\n",
        "  avg_err = total_err / i\n",
        "  print(f\"average error: {avg_err} seconds\")\n",
        "else:\n",
        "  print(\"uh-oh\")"
      ],
      "metadata": {
        "id": "8X1_86fmVVjO",
        "colab": {
          "base_uri": "https://localhost:8080/"
        },
        "outputId": "8723dfb6-fb5d-4b9e-be9b-b5d20b23543e"
      },
      "execution_count": 12,
      "outputs": [
        {
          "output_type": "stream",
          "name": "stdout",
          "text": [
            "average error: 45.44074049467927 seconds\n"
          ]
        }
      ]
    },
    {
      "cell_type": "markdown",
      "source": [
        "-Check loss value of the model for overfitting"
      ],
      "metadata": {
        "id": "YwmjcIGJZy_c"
      }
    },
    {
      "cell_type": "code",
      "source": [
        "mean_squared_log_error(test_time, guesses)"
      ],
      "metadata": {
        "colab": {
          "base_uri": "https://localhost:8080/"
        },
        "id": "MzCskIW-CGHX",
        "outputId": "501eaf37-4007-45b3-b072-d55eb789d2de"
      },
      "execution_count": 13,
      "outputs": [
        {
          "output_type": "execute_result",
          "data": {
            "text/plain": [
              "0.16865098510987278"
            ]
          },
          "metadata": {},
          "execution_count": 13
        }
      ]
    },
    {
      "cell_type": "markdown",
      "source": [
        "-Optimize hyperparameters with gridsearch\n",
        "\n",
        "-This grid search was limited by time constraints. Even after eliminating some hyperparameters and possible values, this took about 4 hours"
      ],
      "metadata": {
        "id": "zftfx6n2Zkcj"
      }
    },
    {
      "cell_type": "code",
      "source": [
        "param_grid = {\n",
        "    'n_estimators': [100, 110, 120, 130, 140, 150],\n",
        "    'criterion': [\"squared_error\", \"poisson\"],#, \"absolute_error\"],\n",
        "    'max_depth': [4, 5, 6, 7, 8],\n",
        "    #'min_samples_split': [],\n",
        "    'min_samples_leaf': [5, 10, 15, 20, 25],\n",
        "    #'min_weight_fraction_leaf': [],\n",
        "    #'max_features': [],\n",
        "    #'max_leaf_nodes': [],\n",
        "    #'min_impurity_decrease': [],\n",
        "    #'bootstrap': [],\n",
        "    #'oob_score': [],\n",
        "    #'max_samples': [],\n",
        "}\n",
        "\n",
        "model = RandomForestRegressor()\n",
        "grid_search = GridSearchCV(estimator = model, param_grid = param_grid, cv = 5)\n",
        "grid_search.fit(data, ctime)\n",
        "grid_search.best_params_"
      ],
      "metadata": {
        "id": "qHo3Th8OYsec"
      },
      "execution_count": null,
      "outputs": []
    }
  ]
}
